{
 "cells": [
  {
   "cell_type": "markdown",
   "id": "37477ed5",
   "metadata": {},
   "source": [
    "# CURRENCY CONVERTER"
   ]
  },
  {
   "cell_type": "code",
   "execution_count": 1,
   "id": "934d2b89",
   "metadata": {},
   "outputs": [],
   "source": [
    "import requests"
   ]
  },
  {
   "cell_type": "code",
   "execution_count": 2,
   "id": "a9294cd1",
   "metadata": {},
   "outputs": [
    {
     "name": "stdout",
     "output_type": "stream",
     "text": [
      "Welcome to the Currency Converter!\n",
      "Enter the amount to convert: 100\n",
      "Enter the currency to convert from (e.g., USD): INR\n",
      "Enter the currency to convert to (e.g., EUR): USD\n",
      "100.0 INR is equal to 1.20 USD\n"
     ]
    }
   ],
   "source": [
    "class CurrencyConverter:\n",
    "    def __init__(self, api_key):\n",
    "        self.api_key = api_key\n",
    "        self.base_url = \"https://open.er-api.com/v6/latest/\"\n",
    "\n",
    "    def get_exchange_rate(self, from_currency, to_currency):\n",
    "        url = f\"{self.base_url}{from_currency}\"\n",
    "        params = {\"apikey\": self.api_key}\n",
    "        response = requests.get(url, params=params)\n",
    "\n",
    "        if response.status_code == 200:\n",
    "            data = response.json()\n",
    "            rates = data.get(\"rates\", {})\n",
    "            exchange_rate = rates.get(to_currency)\n",
    "            if exchange_rate is not None:\n",
    "                return exchange_rate\n",
    "            else:\n",
    "                print(f\"Conversion rate from {from_currency} to {to_currency} not available.\")\n",
    "        else:\n",
    "            print(f\"Failed to fetch exchange rates. Status code: {response.status_code}\")\n",
    "\n",
    "    def convert_currency(self, amount, from_currency, to_currency):\n",
    "        exchange_rate = self.get_exchange_rate(from_currency, to_currency)\n",
    "\n",
    "        if exchange_rate is not None:\n",
    "            converted_amount = amount * exchange_rate\n",
    "            return converted_amount\n",
    "        else:\n",
    "            return None\n",
    "\n",
    "if __name__ == \"__main__\":\n",
    "    \n",
    "    api_key = 'f16ad53c8bd668872a6c7a6f'\n",
    "    converter = CurrencyConverter(api_key)\n",
    "\n",
    "    print(\"Welcome to the Currency Converter!\")\n",
    "\n",
    "    amount = float(input(\"Enter the amount to convert: \"))\n",
    "    from_currency = input(\"Enter the currency to convert from (e.g., USD): \").upper()\n",
    "    to_currency = input(\"Enter the currency to convert to (e.g., EUR): \").upper()\n",
    "\n",
    "    converted_amount = converter.convert_currency(amount, from_currency, to_currency)\n",
    "\n",
    "    if converted_amount is not None:\n",
    "        print(f\"{amount} {from_currency} is equal to {converted_amount:.2f} {to_currency}\")\n",
    "    else:\n",
    "        print(\"Currency conversion failed. Please check your input currencies.\")"
   ]
  },
  {
   "cell_type": "code",
   "execution_count": null,
   "id": "bc6db289",
   "metadata": {},
   "outputs": [],
   "source": []
  }
 ],
 "metadata": {
  "kernelspec": {
   "display_name": "Python 3 (ipykernel)",
   "language": "python",
   "name": "python3"
  },
  "language_info": {
   "codemirror_mode": {
    "name": "ipython",
    "version": 3
   },
   "file_extension": ".py",
   "mimetype": "text/x-python",
   "name": "python",
   "nbconvert_exporter": "python",
   "pygments_lexer": "ipython3",
   "version": "3.10.9"
  }
 },
 "nbformat": 4,
 "nbformat_minor": 5
}
