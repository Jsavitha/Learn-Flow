{
 "cells": [
  {
   "cell_type": "markdown",
   "id": "4708e41c",
   "metadata": {},
   "source": [
    "# URL SHORTENER"
   ]
  },
  {
   "cell_type": "code",
   "execution_count": 1,
   "id": "c22d0205",
   "metadata": {},
   "outputs": [
    {
     "name": "stdout",
     "output_type": "stream",
     "text": [
      "Collecting pyshorteners\n",
      "  Downloading pyshorteners-1.0.1.tar.gz (10.0 kB)\n",
      "  Preparing metadata (setup.py): started\n",
      "  Preparing metadata (setup.py): finished with status 'done'\n",
      "Requirement already satisfied: requests in c:\\users\\savisami\\.jupyter\\datasets\\lib\\site-packages (from pyshorteners) (2.31.0)\n",
      "Requirement already satisfied: certifi>=2017.4.17 in c:\\users\\savisami\\.jupyter\\datasets\\lib\\site-packages (from requests->pyshorteners) (2023.7.22)\n",
      "Requirement already satisfied: urllib3<3,>=1.21.1 in c:\\users\\savisami\\.jupyter\\datasets\\lib\\site-packages (from requests->pyshorteners) (1.26.16)\n",
      "Requirement already satisfied: idna<4,>=2.5 in c:\\users\\savisami\\.jupyter\\datasets\\lib\\site-packages (from requests->pyshorteners) (3.4)\n",
      "Requirement already satisfied: charset-normalizer<4,>=2 in c:\\users\\savisami\\.jupyter\\datasets\\lib\\site-packages (from requests->pyshorteners) (2.0.4)\n",
      "Building wheels for collected packages: pyshorteners\n",
      "  Building wheel for pyshorteners (setup.py): started\n",
      "  Building wheel for pyshorteners (setup.py): finished with status 'done'\n",
      "  Created wheel for pyshorteners: filename=pyshorteners-1.0.1-py3-none-any.whl size=17497 sha256=de4f77c9741f4df04a0eacb7cb6776977a3983d101541d5f0ecbea65449a10a4\n",
      "  Stored in directory: c:\\users\\savisami\\appdata\\local\\pip\\cache\\wheels\\30\\82\\b2\\341d77dbb23611d1e12a8711525ecb29067b9e5fef9ada33df\n",
      "Successfully built pyshorteners\n",
      "Installing collected packages: pyshorteners\n",
      "Successfully installed pyshorteners-1.0.1\n",
      "Collecting pyperclip\n",
      "  Downloading pyperclip-1.8.2.tar.gz (20 kB)\n",
      "  Preparing metadata (setup.py): started\n",
      "  Preparing metadata (setup.py): finished with status 'done'\n",
      "Building wheels for collected packages: pyperclip\n",
      "  Building wheel for pyperclip (setup.py): started\n",
      "  Building wheel for pyperclip (setup.py): finished with status 'done'\n",
      "  Created wheel for pyperclip: filename=pyperclip-1.8.2-py3-none-any.whl size=11137 sha256=9ac0a2ab178a492ff3ec2c3548f2668bfbde483561f188d82c129f0abe5adbcb\n",
      "  Stored in directory: c:\\users\\savisami\\appdata\\local\\pip\\cache\\wheels\\3c\\77\\81\\aaa2802e9b0553585f2789c6f2756b50a09a01d2848423bb15\n",
      "Successfully built pyperclip\n",
      "Installing collected packages: pyperclip\n",
      "Successfully installed pyperclip-1.8.2\n"
     ]
    }
   ],
   "source": [
    "!pip install pyshorteners\n",
    "!pip install pyperclip\n"
   ]
  },
  {
   "cell_type": "code",
   "execution_count": 2,
   "id": "60fc3f99",
   "metadata": {},
   "outputs": [],
   "source": [
    "import pyshorteners\n",
    "import pyperclip\n"
   ]
  },
  {
   "cell_type": "code",
   "execution_count": 4,
   "id": "0795f5ed",
   "metadata": {},
   "outputs": [
    {
     "name": "stdout",
     "output_type": "stream",
     "text": [
      "Welcome to the URL Shortening Tool!\n",
      "Enter the URL to shorten: https://www.flipkart.com/tv-and-appliances-big-savings-days-sale-store?param=234&fm=neo%2Fmerchandising&iid=M_f61fb6b0-b897-406c-b632-33390f5d23c4_1_KUZ8W60OFFMO_MC.KCBBC8GGWR9V&otracker=hp_rich_navigation_3_1.navigationCard.RICH_NAVIGATION_Appliances_KCBBC8GGWR9V&otracker1=hp_rich_navigation_PINNED_neo%2Fmerchandising_NA_NAV_EXPANDABLE_navigationCard_cc_3_L0_view-all&cid=KCBBC8GGWR9V\n",
      "\n",
      "Shortened URL: http://tinyurl.com/ymgv56hg\n"
     ]
    }
   ],
   "source": [
    "def get_user_input():\n",
    "    \"\"\"\n",
    "    Prompt the user to enter a URL and return it.\n",
    "    \"\"\"\n",
    "    url = input('Enter the URL to shorten: ')\n",
    "    return url.strip()\n",
    "\n",
    "\n",
    "\n",
    "def shorten_url(url):\n",
    "    \"\"\"\n",
    "    Shorten the provided URL using the pyshorteners library.\n",
    "    \"\"\"\n",
    "    try:\n",
    "        # Create a Shortener object\n",
    "        s = pyshorteners.Shortener()\n",
    "\n",
    "        # Shorten the URL using the tinyurl service\n",
    "        short_url = s.tinyurl.short(url)\n",
    "\n",
    "        return short_url\n",
    "    except Exception as e:\n",
    "        print(f\"Error: {e}\")\n",
    "        return None\n",
    "\n",
    "\n",
    "def main():\n",
    "    \"\"\"\n",
    "    Main function to execute the URL shortening process.\n",
    "    \"\"\"\n",
    "    print(\"Welcome to the URL Shortening Tool!\")\n",
    "\n",
    "    # Get user input\n",
    "    original_url = get_user_input()\n",
    "\n",
    "    # Shorten the URL\n",
    "    shortened_url = shorten_url(original_url)\n",
    "\n",
    "    if shortened_url:\n",
    "        print(f\"\\nShortened URL: {shortened_url}\")\n",
    "\n",
    "    else:\n",
    "        print(\"URL shortening failed. Please check the provided URL.\")\n",
    "\n",
    "if __name__ == \"__main__\":\n",
    "    main()"
   ]
  },
  {
   "cell_type": "code",
   "execution_count": null,
   "id": "366d83c5",
   "metadata": {},
   "outputs": [],
   "source": []
  }
 ],
 "metadata": {
  "kernelspec": {
   "display_name": "Python 3 (ipykernel)",
   "language": "python",
   "name": "python3"
  },
  "language_info": {
   "codemirror_mode": {
    "name": "ipython",
    "version": 3
   },
   "file_extension": ".py",
   "mimetype": "text/x-python",
   "name": "python",
   "nbconvert_exporter": "python",
   "pygments_lexer": "ipython3",
   "version": "3.10.9"
  }
 },
 "nbformat": 4,
 "nbformat_minor": 5
}
